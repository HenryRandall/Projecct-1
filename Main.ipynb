{
 "cells": [
  {
   "cell_type": "code",
   "execution_count": 1,
   "metadata": {},
   "outputs": [],
   "source": [
    "# Dependencies and Setup\n",
    "from census import Census\n",
    "from us import states\n",
    "from config import (census_key, gkey)\n",
    "import us\n",
    "import gmaps\n",
    "import os\n",
    "import matplotlib.pyplot as plt\n",
    "import pandas as pd\n",
    "import scipy.stats as st\n",
    "import numpy as np\n",
    "from sodapy import Socrata\n",
    "import requests\n",
    "import json"
   ]
  },
  {
   "cell_type": "code",
   "execution_count": 2,
   "metadata": {
    "scrolled": true
   },
   "outputs": [],
   "source": [
    "c = Census(census_key, year=2016)\n",
    "census_data = c.acs5.get(('B01003_001E', 'B17001_002E','B19013_001E'), {'for': 'county:*'})\n",
    "\n",
    "# Convert to DataFrame\n",
    "census_df = pd.DataFrame(census_data)\n",
    "\n",
    "# Column Reordering\n",
    "census_df= census_df.rename(columns={'B01003_001E': 'Population',\n",
    "                                      'B17001_002E': 'Poverty Count',\n",
    "                                      'B19013_001E': 'Median Household Income',\n",
    "                                      'state':'State',\n",
    "                                     'county':'County'})\n",
    "# Add in Poverty Rate (Poverty Count / Population)\n",
    "census_df['Poverty Rate'] = 100 * \\\n",
    "    census_df['Poverty Count'].astype(\n",
    "        int) / census_df['Population'].astype(int)"
   ]
  },
  {
   "cell_type": "code",
   "execution_count": 3,
   "metadata": {},
   "outputs": [],
   "source": [
    "# Clean Census Data\n",
    "census_df=census_df[census_df.State != '72']\n",
    "census_df=census_df.reset_index()\n",
    "census_df['FIPS']=census_df['State']+census_df['County']\n",
    "url='https://api.census.gov/data/2018/pep/population?get=DENSITY&for=county:*&in=state:*&key='+census_key\n",
    "response = requests.get(url).json()\n",
    "column_names = response.pop(0)\n",
    "density_df=pd.DataFrame(response,columns=column_names)\n",
    "density_df['FIPS']=density_df['state']+density_df['county']\n",
    "merge_df = pd.merge(census_df,density_df, on=\"FIPS\")\n",
    "merge_df= merge_df.rename(columns={'DENSITY':'Population Density'})\n",
    "census_df=merge_df[['FIPS','Population','Population Density','Median Household Income','Poverty Rate']]"
   ]
  },
  {
   "cell_type": "code",
   "execution_count": 4,
   "metadata": {},
   "outputs": [
    {
     "name": "stderr",
     "output_type": "stream",
     "text": [
      "WARNING:root:Requests made without an app_token will be subject to strict throttling limits.\n"
     ]
    }
   ],
   "source": [
    "# Read in Medicare.gov hospital compare url: https://data.medicare.gov/resource/xubh-q36u.json\n",
    "dataset='xubh-q36u'\n",
    "client = Socrata('data.medicare.gov', None)\n",
    "hospitals = client.get(dataset,limit=6000)\n",
    "hospitals_df = pd.DataFrame(hospitals)\n",
    "\n",
    "# Clean Hospital Data\n",
    "hospitals_df=hospitals_df[['hospital_name','city','state','county_name','hospital_overall_rating']]\n",
    "hospitals_df=hospitals_df[hospitals_df.hospital_overall_rating != 'Not Available']\n",
    "hospitals_df=hospitals_df.reset_index()\n",
    "hospitals_df=hospitals_df.drop(columns='index')"
   ]
  },
  {
   "cell_type": "code",
   "execution_count": 5,
   "metadata": {},
   "outputs": [],
   "source": [
    "# Define Urls for the Johns Hopkins Data\n",
    "confirm_url='https://raw.githubusercontent.com/CSSEGISandData/COVID-19/master/csse_covid_19_data/csse_covid_19_time_series/time_series_covid19_confirmed_US.csv'\n",
    "death_url='https://raw.githubusercontent.com/CSSEGISandData/COVID-19/master/csse_covid_19_data/csse_covid_19_time_series/time_series_covid19_deaths_US.csv'\n",
    "\n",
    "# Read in COVID-19 Files\n",
    "confirm_df=pd.read_csv(confirm_url, error_bad_lines=False)\n",
    "death_df=pd.read_csv(death_url, error_bad_lines=False)"
   ]
  },
  {
   "cell_type": "code",
   "execution_count": 6,
   "metadata": {},
   "outputs": [],
   "source": [
    "# Clean Confirm data Rows\n",
    "confirm_df=confirm_df[confirm_df.Admin2 != 'Unassigned']\n",
    "confirm_df=confirm_df.dropna()\n",
    "confirm_df=confirm_df[~confirm_df['Admin2'].astype(str).str.startswith('Out of')]\n",
    "confirm_df=confirm_df[confirm_df.Admin2 != 'Out of*']\n",
    "confirm_df=confirm_df.reset_index()\n",
    "confirm_df['FIPS']=confirm_df.FIPS.map('{0:0>5.0f}'.format)\n",
    "\n",
    "# Clean Death Data Rows\n",
    "death_df=death_df[death_df.Admin2 != 'Unassigned']\n",
    "death_df=death_df.dropna()\n",
    "death_df=death_df[~death_df['Admin2'].astype(str).str.startswith('Out of')]\n",
    "death_df=death_df[death_df.Admin2 != 'Out of*']\n",
    "death_df=death_df.reset_index()"
   ]
  },
  {
   "cell_type": "code",
   "execution_count": 7,
   "metadata": {},
   "outputs": [],
   "source": [
    "# Create the disease DataFrame\n",
    "disease_df=confirm_df[['FIPS','Admin2','Province_State','Lat','Long_']]\n",
    "disease_df= disease_df.rename(columns={'Admin2': 'County',\n",
    "                                      'Province_State': 'State',\n",
    "                                      'Lat': 'Latitude',\n",
    "                                      'Long_':'Longitude'})\n",
    "disease_df\n",
    "confirm_5=[]\n",
    "confirm_10=[]\n",
    "confirm_20=[]\n",
    "confirm_50=[]\n",
    "death_5=[]\n",
    "death_10=[]\n",
    "death_20=[]\n",
    "death_50=[]\n",
    "[r,c]=confirm_df.shape\n",
    "\n",
    "for j in range (0,r):\n",
    "    for i in range (12,c):\n",
    "        if confirm_df.iloc[j, i]>0:\n",
    "            break\n",
    "    try:\n",
    "        response=confirm_df.iloc[j, i+4]\n",
    "        confirm_5.append(response)\n",
    "    except:\n",
    "        confirm_5.append(np.nan)\n",
    "    try:\n",
    "        response=confirm_df.iloc[j, i+9]\n",
    "        confirm_10.append(response)\n",
    "    except:\n",
    "        confirm_10.append(np.nan)\n",
    "    try:\n",
    "        response=confirm_df.iloc[j, i+19]\n",
    "        confirm_20.append(response)\n",
    "    except:\n",
    "        confirm_20.append(np.nan)\n",
    "    try:\n",
    "        response=confirm_df.iloc[j, i+49]\n",
    "        confirm_50.append(response)\n",
    "    except:\n",
    "        confirm_50.append(np.nan)\n",
    "    try:\n",
    "        response=death_df.iloc[j, i+5]\n",
    "        death_5.append(response)\n",
    "    except:\n",
    "        death_5.append(np.nan)\n",
    "    try:\n",
    "        response=death_df.iloc[j, i+10]\n",
    "        death_10.append(response)\n",
    "    except:\n",
    "        death_10.append(np.nan)\n",
    "    try:\n",
    "        response=death_df.iloc[j, i+20]\n",
    "        death_20.append(response)\n",
    "    except:\n",
    "        death_20.append(np.nan)\n",
    "    try:\n",
    "        response=death_df.iloc[j, i+50]\n",
    "        death_50.append(response)\n",
    "    except:\n",
    "        death_50.append(np.nan)\n",
    "disease_df['confirm_5']=confirm_5\n",
    "disease_df['confirm_10']=confirm_10\n",
    "disease_df['confirm_20']=confirm_20\n",
    "disease_df['confirm_50']=confirm_50\n",
    "disease_df['death_5']=death_5\n",
    "disease_df['death_10']=death_10\n",
    "disease_df['death_20']=death_20\n",
    "disease_df['death_50']=death_50"
   ]
  },
  {
   "cell_type": "code",
   "execution_count": 8,
   "metadata": {},
   "outputs": [],
   "source": [
    "#Merge County Census Data with County COVID data\n",
    "merge_df = pd.merge(disease_df, census_df, on=\"FIPS\")\n",
    "merge_df.to_csv('counties.csv',index=False,header=True)\n",
    "hospitals_df.to_csv('hospitals.csv',index=False,header=True)"
   ]
  },
  {
   "cell_type": "code",
   "execution_count": null,
   "metadata": {},
   "outputs": [],
   "source": []
  }
 ],
 "metadata": {
  "kernelspec": {
   "display_name": "Python [conda env:PythonData] *",
   "language": "python",
   "name": "conda-env-PythonData-py"
  },
  "language_info": {
   "codemirror_mode": {
    "name": "ipython",
    "version": 3
   },
   "file_extension": ".py",
   "mimetype": "text/x-python",
   "name": "python",
   "nbconvert_exporter": "python",
   "pygments_lexer": "ipython3",
   "version": "3.7.6"
  }
 },
 "nbformat": 4,
 "nbformat_minor": 4
}
